{
 "cells": [
  {
   "cell_type": "markdown",
   "id": "e14ffa27",
   "metadata": {},
   "source": [
    "# Developing \"Momentum\" Trading Strategy\n",
    "* Many differnt takes on this strategy\n",
    "* Sometimes referred to as trend following\n",
    "* Whatever you do and call it, you first need to research potential trading signals"
   ]
  },
  {
   "cell_type": "code",
   "execution_count": 1,
   "id": "2697dccd",
   "metadata": {},
   "outputs": [],
   "source": [
    "import numpy as np\n",
    "import pandas as pd\n",
    "import pandas_datareader as pdr\n",
    "from matplotlib import pyplot as plt"
   ]
  },
  {
   "cell_type": "markdown",
   "id": "2e753ee8",
   "metadata": {},
   "source": [
    "### 1. Download data: \n",
    "* Many services for this, some paid some free \n",
    "* Yahoo Finance API\n",
    "* Typically trading \"systems\" involve a number of securities\n",
    "* For this demonstration we are just going to look at GLD --> the gold ETF"
   ]
  },
  {
   "cell_type": "code",
   "execution_count": 2,
   "id": "fc469aec",
   "metadata": {},
   "outputs": [
    {
     "data": {
      "text/html": [
       "<div>\n",
       "<style scoped>\n",
       "    .dataframe tbody tr th:only-of-type {\n",
       "        vertical-align: middle;\n",
       "    }\n",
       "\n",
       "    .dataframe tbody tr th {\n",
       "        vertical-align: top;\n",
       "    }\n",
       "\n",
       "    .dataframe thead th {\n",
       "        text-align: right;\n",
       "    }\n",
       "</style>\n",
       "<table border=\"1\" class=\"dataframe\">\n",
       "  <thead>\n",
       "    <tr style=\"text-align: right;\">\n",
       "      <th></th>\n",
       "      <th>day</th>\n",
       "      <th>Open</th>\n",
       "      <th>High</th>\n",
       "      <th>Low</th>\n",
       "      <th>Close</th>\n",
       "    </tr>\n",
       "    <tr>\n",
       "      <th>Date</th>\n",
       "      <th></th>\n",
       "      <th></th>\n",
       "      <th></th>\n",
       "      <th></th>\n",
       "      <th></th>\n",
       "    </tr>\n",
       "  </thead>\n",
       "  <tbody>\n",
       "    <tr>\n",
       "      <th>2017-01-04</th>\n",
       "      <td>1</td>\n",
       "      <td>111.059998</td>\n",
       "      <td>111.220001</td>\n",
       "      <td>110.610001</td>\n",
       "      <td>110.860001</td>\n",
       "    </tr>\n",
       "    <tr>\n",
       "      <th>2017-01-05</th>\n",
       "      <td>2</td>\n",
       "      <td>112.160004</td>\n",
       "      <td>112.940002</td>\n",
       "      <td>112.070000</td>\n",
       "      <td>112.580002</td>\n",
       "    </tr>\n",
       "    <tr>\n",
       "      <th>2017-01-06</th>\n",
       "      <td>3</td>\n",
       "      <td>111.809998</td>\n",
       "      <td>112.379997</td>\n",
       "      <td>111.570000</td>\n",
       "      <td>111.750000</td>\n",
       "    </tr>\n",
       "    <tr>\n",
       "      <th>2017-01-09</th>\n",
       "      <td>4</td>\n",
       "      <td>112.389999</td>\n",
       "      <td>113.040001</td>\n",
       "      <td>112.180000</td>\n",
       "      <td>112.669998</td>\n",
       "    </tr>\n",
       "    <tr>\n",
       "      <th>2017-01-10</th>\n",
       "      <td>5</td>\n",
       "      <td>112.940002</td>\n",
       "      <td>113.449997</td>\n",
       "      <td>112.639999</td>\n",
       "      <td>113.150002</td>\n",
       "    </tr>\n",
       "  </tbody>\n",
       "</table>\n",
       "</div>"
      ],
      "text/plain": [
       "            day        Open        High         Low       Close\n",
       "Date                                                           \n",
       "2017-01-04    1  111.059998  111.220001  110.610001  110.860001\n",
       "2017-01-05    2  112.160004  112.940002  112.070000  112.580002\n",
       "2017-01-06    3  111.809998  112.379997  111.570000  111.750000\n",
       "2017-01-09    4  112.389999  113.040001  112.180000  112.669998\n",
       "2017-01-10    5  112.940002  113.449997  112.639999  113.150002"
      ]
     },
     "execution_count": 2,
     "metadata": {},
     "output_type": "execute_result"
    }
   ],
   "source": [
    "gld = pdr.get_data_yahoo('GLD')\n",
    "day = np.arange(1, len(gld) + 1)\n",
    "gld['day'] = day\n",
    "gld.drop(columns=['Adj Close', 'Volume'], inplace = True)\n",
    "gld = gld[['day', 'Open', 'High', 'Low', 'Close']]\n",
    "gld.head()"
   ]
  },
  {
   "cell_type": "code",
   "execution_count": 3,
   "id": "73f754cd",
   "metadata": {},
   "outputs": [
    {
     "name": "stdout",
     "output_type": "stream",
     "text": [
      "<class 'pandas.core.frame.DataFrame'>\n",
      "DatetimeIndex: 1259 entries, 2017-01-04 to 2022-01-03\n",
      "Data columns (total 5 columns):\n",
      " #   Column  Non-Null Count  Dtype  \n",
      "---  ------  --------------  -----  \n",
      " 0   day     1259 non-null   int64  \n",
      " 1   Open    1259 non-null   float64\n",
      " 2   High    1259 non-null   float64\n",
      " 3   Low     1259 non-null   float64\n",
      " 4   Close   1259 non-null   float64\n",
      "dtypes: float64(4), int64(1)\n",
      "memory usage: 59.0 KB\n"
     ]
    }
   ],
   "source": [
    "gld.info()"
   ]
  },
  {
   "cell_type": "markdown",
   "id": "f367f518",
   "metadata": {},
   "source": [
    "### 2. Add data/transform data\n",
    "* calculate signal based on some price or statistical action\n",
    "* we are going to try a moving average crossover to generate signals\n",
    "* for this strategy we will always by \"in\" a trade, either long or short\n",
    "* we are modeling; this means real life variation should be expected"
   ]
  },
  {
   "cell_type": "markdown",
   "id": "1a390bbb",
   "metadata": {},
   "source": [
    "#### Add moving averages to the data frame"
   ]
  },
  {
   "cell_type": "code",
   "execution_count": 4,
   "id": "f0bc8427",
   "metadata": {},
   "outputs": [],
   "source": [
    "# Need to shift over one day because if we don't we are trading\n",
    "# as if we already know the closing price of the day we are in \n",
    "# in order to calculate the respective 9-day and 21-day moving averages.\n",
    "# Thus the first 9-day and 21-day moving averages must be on the 22nd day row \n",
    "# to allow for the calculation of the 21 day moving average from \n",
    "# the first 21 days of closing prices before it. We could also run \n",
    "# this project based on open prices instead of closing prices, but results \n",
    "# will be very similar.\n"
   ]
  },
  {
   "cell_type": "code",
   "execution_count": 5,
   "id": "b67c027f",
   "metadata": {},
   "outputs": [
    {
     "data": {
      "text/html": [
       "<div>\n",
       "<style scoped>\n",
       "    .dataframe tbody tr th:only-of-type {\n",
       "        vertical-align: middle;\n",
       "    }\n",
       "\n",
       "    .dataframe tbody tr th {\n",
       "        vertical-align: top;\n",
       "    }\n",
       "\n",
       "    .dataframe thead th {\n",
       "        text-align: right;\n",
       "    }\n",
       "</style>\n",
       "<table border=\"1\" class=\"dataframe\">\n",
       "  <thead>\n",
       "    <tr style=\"text-align: right;\">\n",
       "      <th></th>\n",
       "      <th>day</th>\n",
       "      <th>Open</th>\n",
       "      <th>High</th>\n",
       "      <th>Low</th>\n",
       "      <th>Close</th>\n",
       "      <th>9-day</th>\n",
       "      <th>21-day</th>\n",
       "    </tr>\n",
       "    <tr>\n",
       "      <th>Date</th>\n",
       "      <th></th>\n",
       "      <th></th>\n",
       "      <th></th>\n",
       "      <th></th>\n",
       "      <th></th>\n",
       "      <th></th>\n",
       "      <th></th>\n",
       "    </tr>\n",
       "  </thead>\n",
       "  <tbody>\n",
       "    <tr>\n",
       "      <th>2017-02-01</th>\n",
       "      <td>20</td>\n",
       "      <td>114.660004</td>\n",
       "      <td>115.449997</td>\n",
       "      <td>114.139999</td>\n",
       "      <td>115.199997</td>\n",
       "      <td>114.607778</td>\n",
       "      <td>NaN</td>\n",
       "    </tr>\n",
       "    <tr>\n",
       "      <th>2017-02-02</th>\n",
       "      <td>21</td>\n",
       "      <td>116.260002</td>\n",
       "      <td>116.570000</td>\n",
       "      <td>115.629997</td>\n",
       "      <td>115.839996</td>\n",
       "      <td>114.655556</td>\n",
       "      <td>NaN</td>\n",
       "    </tr>\n",
       "    <tr>\n",
       "      <th>2017-02-03</th>\n",
       "      <td>22</td>\n",
       "      <td>115.730003</td>\n",
       "      <td>116.370003</td>\n",
       "      <td>115.709999</td>\n",
       "      <td>116.129997</td>\n",
       "      <td>114.743333</td>\n",
       "      <td>114.088571</td>\n",
       "    </tr>\n",
       "    <tr>\n",
       "      <th>2017-02-06</th>\n",
       "      <td>23</td>\n",
       "      <td>117.070000</td>\n",
       "      <td>117.739998</td>\n",
       "      <td>116.739998</td>\n",
       "      <td>117.699997</td>\n",
       "      <td>114.781110</td>\n",
       "      <td>114.339524</td>\n",
       "    </tr>\n",
       "    <tr>\n",
       "      <th>2017-02-07</th>\n",
       "      <td>24</td>\n",
       "      <td>117.309998</td>\n",
       "      <td>117.739998</td>\n",
       "      <td>117.199997</td>\n",
       "      <td>117.459999</td>\n",
       "      <td>115.051110</td>\n",
       "      <td>114.583333</td>\n",
       "    </tr>\n",
       "    <tr>\n",
       "      <th>2017-02-08</th>\n",
       "      <td>25</td>\n",
       "      <td>118.089996</td>\n",
       "      <td>118.589996</td>\n",
       "      <td>117.809998</td>\n",
       "      <td>118.190002</td>\n",
       "      <td>115.399999</td>\n",
       "      <td>114.855238</td>\n",
       "    </tr>\n",
       "  </tbody>\n",
       "</table>\n",
       "</div>"
      ],
      "text/plain": [
       "            day        Open        High         Low       Close       9-day  \\\n",
       "Date                                                                          \n",
       "2017-02-01   20  114.660004  115.449997  114.139999  115.199997  114.607778   \n",
       "2017-02-02   21  116.260002  116.570000  115.629997  115.839996  114.655556   \n",
       "2017-02-03   22  115.730003  116.370003  115.709999  116.129997  114.743333   \n",
       "2017-02-06   23  117.070000  117.739998  116.739998  117.699997  114.781110   \n",
       "2017-02-07   24  117.309998  117.739998  117.199997  117.459999  115.051110   \n",
       "2017-02-08   25  118.089996  118.589996  117.809998  118.190002  115.399999   \n",
       "\n",
       "                21-day  \n",
       "Date                    \n",
       "2017-02-01         NaN  \n",
       "2017-02-02         NaN  \n",
       "2017-02-03  114.088571  \n",
       "2017-02-06  114.339524  \n",
       "2017-02-07  114.583333  \n",
       "2017-02-08  114.855238  "
      ]
     },
     "execution_count": 5,
     "metadata": {},
     "output_type": "execute_result"
    }
   ],
   "source": [
    "gld['9-day'] = gld['Close'].rolling(9).mean().shift()\n",
    "gld['21-day'] = gld['Close'].rolling(21).mean().shift()\n",
    "gld[19:25]"
   ]
  },
  {
   "cell_type": "markdown",
   "id": "17f21023",
   "metadata": {},
   "source": [
    "#### Add \"signal\" column  "
   ]
  },
  {
   "cell_type": "code",
   "execution_count": 6,
   "id": "7e269509",
   "metadata": {},
   "outputs": [
    {
     "data": {
      "text/html": [
       "<div>\n",
       "<style scoped>\n",
       "    .dataframe tbody tr th:only-of-type {\n",
       "        vertical-align: middle;\n",
       "    }\n",
       "\n",
       "    .dataframe tbody tr th {\n",
       "        vertical-align: top;\n",
       "    }\n",
       "\n",
       "    .dataframe thead th {\n",
       "        text-align: right;\n",
       "    }\n",
       "</style>\n",
       "<table border=\"1\" class=\"dataframe\">\n",
       "  <thead>\n",
       "    <tr style=\"text-align: right;\">\n",
       "      <th></th>\n",
       "      <th>day</th>\n",
       "      <th>Open</th>\n",
       "      <th>High</th>\n",
       "      <th>Low</th>\n",
       "      <th>Close</th>\n",
       "      <th>9-day</th>\n",
       "      <th>21-day</th>\n",
       "      <th>signal</th>\n",
       "    </tr>\n",
       "    <tr>\n",
       "      <th>Date</th>\n",
       "      <th></th>\n",
       "      <th></th>\n",
       "      <th></th>\n",
       "      <th></th>\n",
       "      <th></th>\n",
       "      <th></th>\n",
       "      <th></th>\n",
       "      <th></th>\n",
       "    </tr>\n",
       "  </thead>\n",
       "  <tbody>\n",
       "    <tr>\n",
       "      <th>2017-02-03</th>\n",
       "      <td>22</td>\n",
       "      <td>115.730003</td>\n",
       "      <td>116.370003</td>\n",
       "      <td>115.709999</td>\n",
       "      <td>116.129997</td>\n",
       "      <td>114.743333</td>\n",
       "      <td>114.088571</td>\n",
       "      <td>1</td>\n",
       "    </tr>\n",
       "    <tr>\n",
       "      <th>2017-02-06</th>\n",
       "      <td>23</td>\n",
       "      <td>117.070000</td>\n",
       "      <td>117.739998</td>\n",
       "      <td>116.739998</td>\n",
       "      <td>117.699997</td>\n",
       "      <td>114.781110</td>\n",
       "      <td>114.339524</td>\n",
       "      <td>1</td>\n",
       "    </tr>\n",
       "    <tr>\n",
       "      <th>2017-02-07</th>\n",
       "      <td>24</td>\n",
       "      <td>117.309998</td>\n",
       "      <td>117.739998</td>\n",
       "      <td>117.199997</td>\n",
       "      <td>117.459999</td>\n",
       "      <td>115.051110</td>\n",
       "      <td>114.583333</td>\n",
       "      <td>1</td>\n",
       "    </tr>\n",
       "    <tr>\n",
       "      <th>2017-02-08</th>\n",
       "      <td>25</td>\n",
       "      <td>118.089996</td>\n",
       "      <td>118.589996</td>\n",
       "      <td>117.809998</td>\n",
       "      <td>118.190002</td>\n",
       "      <td>115.399999</td>\n",
       "      <td>114.855238</td>\n",
       "      <td>1</td>\n",
       "    </tr>\n",
       "    <tr>\n",
       "      <th>2017-02-09</th>\n",
       "      <td>26</td>\n",
       "      <td>118.190002</td>\n",
       "      <td>118.580002</td>\n",
       "      <td>117.199997</td>\n",
       "      <td>117.290001</td>\n",
       "      <td>115.947777</td>\n",
       "      <td>115.118095</td>\n",
       "      <td>1</td>\n",
       "    </tr>\n",
       "  </tbody>\n",
       "</table>\n",
       "</div>"
      ],
      "text/plain": [
       "            day        Open        High         Low       Close       9-day  \\\n",
       "Date                                                                          \n",
       "2017-02-03   22  115.730003  116.370003  115.709999  116.129997  114.743333   \n",
       "2017-02-06   23  117.070000  117.739998  116.739998  117.699997  114.781110   \n",
       "2017-02-07   24  117.309998  117.739998  117.199997  117.459999  115.051110   \n",
       "2017-02-08   25  118.089996  118.589996  117.809998  118.190002  115.399999   \n",
       "2017-02-09   26  118.190002  118.580002  117.199997  117.290001  115.947777   \n",
       "\n",
       "                21-day  signal  \n",
       "Date                            \n",
       "2017-02-03  114.088571       1  \n",
       "2017-02-06  114.339524       1  \n",
       "2017-02-07  114.583333       1  \n",
       "2017-02-08  114.855238       1  \n",
       "2017-02-09  115.118095       1  "
      ]
     },
     "execution_count": 6,
     "metadata": {},
     "output_type": "execute_result"
    }
   ],
   "source": [
    "gld['signal'] = np.where(gld['9-day'] > gld['21-day'], 1, 0)\n",
    "gld['signal'] = np.where(gld['9-day'] < gld['21-day'], -1, gld['signal'])\n",
    "gld.dropna(inplace=True)\n",
    "gld.head()"
   ]
  },
  {
   "cell_type": "markdown",
   "id": "02728e23",
   "metadata": {},
   "source": [
    "#### Calculate Instantaneous returns/system returns"
   ]
  },
  {
   "cell_type": "code",
   "execution_count": 7,
   "id": "a201a8ca",
   "metadata": {},
   "outputs": [
    {
     "data": {
      "text/html": [
       "<div>\n",
       "<style scoped>\n",
       "    .dataframe tbody tr th:only-of-type {\n",
       "        vertical-align: middle;\n",
       "    }\n",
       "\n",
       "    .dataframe tbody tr th {\n",
       "        vertical-align: top;\n",
       "    }\n",
       "\n",
       "    .dataframe thead th {\n",
       "        text-align: right;\n",
       "    }\n",
       "</style>\n",
       "<table border=\"1\" class=\"dataframe\">\n",
       "  <thead>\n",
       "    <tr style=\"text-align: right;\">\n",
       "      <th></th>\n",
       "      <th>day</th>\n",
       "      <th>Open</th>\n",
       "      <th>High</th>\n",
       "      <th>Low</th>\n",
       "      <th>Close</th>\n",
       "      <th>9-day</th>\n",
       "      <th>21-day</th>\n",
       "      <th>signal</th>\n",
       "      <th>return</th>\n",
       "      <th>system_return</th>\n",
       "      <th>entry</th>\n",
       "    </tr>\n",
       "    <tr>\n",
       "      <th>Date</th>\n",
       "      <th></th>\n",
       "      <th></th>\n",
       "      <th></th>\n",
       "      <th></th>\n",
       "      <th></th>\n",
       "      <th></th>\n",
       "      <th></th>\n",
       "      <th></th>\n",
       "      <th></th>\n",
       "      <th></th>\n",
       "      <th></th>\n",
       "    </tr>\n",
       "  </thead>\n",
       "  <tbody>\n",
       "    <tr>\n",
       "      <th>2017-02-03</th>\n",
       "      <td>22</td>\n",
       "      <td>115.730003</td>\n",
       "      <td>116.370003</td>\n",
       "      <td>115.709999</td>\n",
       "      <td>116.129997</td>\n",
       "      <td>114.743333</td>\n",
       "      <td>114.088571</td>\n",
       "      <td>1</td>\n",
       "      <td>NaN</td>\n",
       "      <td>NaN</td>\n",
       "      <td>NaN</td>\n",
       "    </tr>\n",
       "    <tr>\n",
       "      <th>2017-02-06</th>\n",
       "      <td>23</td>\n",
       "      <td>117.070000</td>\n",
       "      <td>117.739998</td>\n",
       "      <td>116.739998</td>\n",
       "      <td>117.699997</td>\n",
       "      <td>114.781110</td>\n",
       "      <td>114.339524</td>\n",
       "      <td>1</td>\n",
       "      <td>0.013429</td>\n",
       "      <td>0.013429</td>\n",
       "      <td>0.0</td>\n",
       "    </tr>\n",
       "    <tr>\n",
       "      <th>2017-02-07</th>\n",
       "      <td>24</td>\n",
       "      <td>117.309998</td>\n",
       "      <td>117.739998</td>\n",
       "      <td>117.199997</td>\n",
       "      <td>117.459999</td>\n",
       "      <td>115.051110</td>\n",
       "      <td>114.583333</td>\n",
       "      <td>1</td>\n",
       "      <td>-0.002041</td>\n",
       "      <td>-0.002041</td>\n",
       "      <td>0.0</td>\n",
       "    </tr>\n",
       "    <tr>\n",
       "      <th>2017-02-08</th>\n",
       "      <td>25</td>\n",
       "      <td>118.089996</td>\n",
       "      <td>118.589996</td>\n",
       "      <td>117.809998</td>\n",
       "      <td>118.190002</td>\n",
       "      <td>115.399999</td>\n",
       "      <td>114.855238</td>\n",
       "      <td>1</td>\n",
       "      <td>0.006196</td>\n",
       "      <td>0.006196</td>\n",
       "      <td>0.0</td>\n",
       "    </tr>\n",
       "    <tr>\n",
       "      <th>2017-02-09</th>\n",
       "      <td>26</td>\n",
       "      <td>118.190002</td>\n",
       "      <td>118.580002</td>\n",
       "      <td>117.199997</td>\n",
       "      <td>117.290001</td>\n",
       "      <td>115.947777</td>\n",
       "      <td>115.118095</td>\n",
       "      <td>1</td>\n",
       "      <td>-0.007644</td>\n",
       "      <td>-0.007644</td>\n",
       "      <td>0.0</td>\n",
       "    </tr>\n",
       "  </tbody>\n",
       "</table>\n",
       "</div>"
      ],
      "text/plain": [
       "            day        Open        High         Low       Close       9-day  \\\n",
       "Date                                                                          \n",
       "2017-02-03   22  115.730003  116.370003  115.709999  116.129997  114.743333   \n",
       "2017-02-06   23  117.070000  117.739998  116.739998  117.699997  114.781110   \n",
       "2017-02-07   24  117.309998  117.739998  117.199997  117.459999  115.051110   \n",
       "2017-02-08   25  118.089996  118.589996  117.809998  118.190002  115.399999   \n",
       "2017-02-09   26  118.190002  118.580002  117.199997  117.290001  115.947777   \n",
       "\n",
       "                21-day  signal    return  system_return  entry  \n",
       "Date                                                            \n",
       "2017-02-03  114.088571       1       NaN            NaN    NaN  \n",
       "2017-02-06  114.339524       1  0.013429       0.013429    0.0  \n",
       "2017-02-07  114.583333       1 -0.002041      -0.002041    0.0  \n",
       "2017-02-08  114.855238       1  0.006196       0.006196    0.0  \n",
       "2017-02-09  115.118095       1 -0.007644      -0.007644    0.0  "
      ]
     },
     "execution_count": 7,
     "metadata": {},
     "output_type": "execute_result"
    }
   ],
   "source": [
    "gld['return'] = np.log(gld['Close']).diff()\n",
    "gld['system_return'] = gld['signal'] * gld['return']\n",
    "gld['entry'] = gld.signal.diff()\n",
    "gld.head()"
   ]
  },
  {
   "cell_type": "markdown",
   "id": "96428ac2",
   "metadata": {},
   "source": [
    "#### Plot trades on time series"
   ]
  },
  {
   "cell_type": "code",
   "execution_count": 8,
   "id": "fd690983",
   "metadata": {},
   "outputs": [],
   "source": [
    "# This plots about one year (last 252 days) of the data from around\n",
    "# May 2020 to April 2021"
   ]
  },
  {
   "cell_type": "code",
   "execution_count": 9,
   "id": "9fbc37f1",
   "metadata": {},
   "outputs": [
    {
     "data": {
      "image/png": "[encoded data removed]",
      "text/plain": [
       "<Figure size 864x432 with 1 Axes>"
      ]
     },
     "metadata": {
      "needs_background": "light"
     },
     "output_type": "display_data"
    }
   ],
   "source": [
    "plt.rcParams['figure.figsize'] = 12, 6\n",
    "plt.grid(True, alpha = .3)\n",
    "plt.plot(gld.iloc[-252:]['Close'], label = 'GLD')\n",
    "plt.plot(gld.iloc[-252:]['9-day'], label = '9-day')\n",
    "plt.plot(gld.iloc[-252:]['21-day'], label = '21-day')\n",
    "plt.plot(gld[-252:].loc[gld.entry == 2].index, gld[-252:]['9-day'][gld.entry == 2], '^',\n",
    "         color = 'g', markersize = 12)\n",
    "plt.plot(gld[-252:].loc[gld.entry == -2].index, gld[-252:]['21-day'][gld.entry == -2], 'v',\n",
    "         color = 'r', markersize = 12)\n",
    "plt.legend(loc=2);"
   ]
  },
  {
   "cell_type": "code",
   "execution_count": 10,
   "id": "b1615c32",
   "metadata": {},
   "outputs": [],
   "source": [
    "# Now we will analyze whether this momentum strategy\n",
    "# of shorting then going long does better or worse than\n",
    "# just holding long the entire time."
   ]
  },
  {
   "cell_type": "code",
   "execution_count": 11,
   "id": "66b2386e",
   "metadata": {},
   "outputs": [
    {
     "data": {
      "image/png": "[encoded data removed]",
      "text/plain": [
       "<Figure size 864x432 with 1 Axes>"
      ]
     },
     "metadata": {
      "needs_background": "light"
     },
     "output_type": "display_data"
    }
   ],
   "source": [
    "plt.plot(np.exp(gld['return']).cumprod(), label='Buy/Hold')\n",
    "plt.plot(np.exp(gld['system_return']).cumprod(), label='System')\n",
    "plt.legend(loc=2)\n",
    "plt.grid(True, alpha=.3)"
   ]
  },
  {
   "cell_type": "code",
   "execution_count": 12,
   "id": "cdb56336",
   "metadata": {},
   "outputs": [
    {
     "data": {
      "text/plain": [
       "0.44996984835354414"
      ]
     },
     "execution_count": 12,
     "metadata": {},
     "output_type": "execute_result"
    }
   ],
   "source": [
    "# Return of the buy and hold strategy over the 5 years\n",
    "np.exp(gld['return']).cumprod()[-1] -1"
   ]
  },
  {
   "cell_type": "code",
   "execution_count": 13,
   "id": "a709289e",
   "metadata": {},
   "outputs": [
    {
     "data": {
      "text/plain": [
       "0.05759801926213726"
      ]
     },
     "execution_count": 13,
     "metadata": {},
     "output_type": "execute_result"
    }
   ],
   "source": [
    "# return of the momentum strategy over the past 5 years\n",
    "np.exp(gld['system_return']).cumprod()[-1] -1"
   ]
  }
 ],
 "metadata": {
  "kernelspec": {
   "display_name": "Python 3 (ipykernel)",
   "language": "python",
   "name": "python3"
  },
  "language_info": {
   "codemirror_mode": {
    "name": "ipython",
    "version": 3
   },
   "file_extension": ".py",
   "mimetype": "text/x-python",
   "name": "python",
   "nbconvert_exporter": "python",
   "pygments_lexer": "ipython3",
   "version": "3.9.5"
  }
 },
 "nbformat": 4,
 "nbformat_minor": 5
}
