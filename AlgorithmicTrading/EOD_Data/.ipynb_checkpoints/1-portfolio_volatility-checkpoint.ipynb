{
 "cells": [
  {
   "cell_type": "markdown",
   "metadata": {},
   "source": [
    "# Calculation of Portfolio Volatility\n",
    "![](mm2-variance.gif)"
   ]
  },
  {
   "cell_type": "markdown",
   "metadata": {},
   "source": [
    "### 1. Environment"
   ]
  },
  {
   "cell_type": "code",
   "execution_count": null,
   "metadata": {},
   "outputs": [],
   "source": [
    "# This is a volatility calculation of a 7 security portfolio. \n",
    "# Some of these calculations can be done by hand with a 1 to 2 \n",
    "# security portfolio, but with 3 and higher it is best to use computers."
   ]
  },
  {
   "cell_type": "code",
   "execution_count": 3,
   "metadata": {},
   "outputs": [],
   "source": [
    "import datetime as dt\n",
    "import json\n",
    "import numpy as np\n",
    "import pandas as pd\n",
    "import requests"
   ]
  },
  {
   "cell_type": "markdown",
   "metadata": {},
   "source": [
    "### 2. Preliminaries\n",
    "API used: https://eodhistoricaldata.com"
   ]
  },
  {
   "cell_type": "code",
   "execution_count": 4,
   "metadata": {},
   "outputs": [],
   "source": [
    "key = '61d3b56ccec906.64426562'\n",
    "start = dt.date.today() - dt.timedelta(366)\n",
    "symbols = \"SPY GLD AMZN GOOG KPTI GILD MPC\".split()\n",
    "weights = np.array([14.3, 14.3, 14.3, 14.3, 14.3, 14.3, 14.2]) / 100\n",
    "data = []"
   ]
  },
  {
   "cell_type": "markdown",
   "metadata": {},
   "source": [
    "### 3. Download and prepare data"
   ]
  },
  {
   "cell_type": "code",
   "execution_count": 5,
   "metadata": {},
   "outputs": [
    {
     "data": {
      "text/html": [
       "<div>\n",
       "<style scoped>\n",
       "    .dataframe tbody tr th:only-of-type {\n",
       "        vertical-align: middle;\n",
       "    }\n",
       "\n",
       "    .dataframe tbody tr th {\n",
       "        vertical-align: top;\n",
       "    }\n",
       "\n",
       "    .dataframe thead th {\n",
       "        text-align: right;\n",
       "    }\n",
       "</style>\n",
       "<table border=\"1\" class=\"dataframe\">\n",
       "  <thead>\n",
       "    <tr style=\"text-align: right;\">\n",
       "      <th></th>\n",
       "      <th>SPY</th>\n",
       "      <th>GLD</th>\n",
       "      <th>AMZN</th>\n",
       "      <th>GOOG</th>\n",
       "      <th>KPTI</th>\n",
       "      <th>GILD</th>\n",
       "      <th>MPC</th>\n",
       "    </tr>\n",
       "    <tr>\n",
       "      <th>date</th>\n",
       "      <th></th>\n",
       "      <th></th>\n",
       "      <th></th>\n",
       "      <th></th>\n",
       "      <th></th>\n",
       "      <th></th>\n",
       "      <th></th>\n",
       "    </tr>\n",
       "  </thead>\n",
       "  <tbody>\n",
       "    <tr>\n",
       "      <th>2021-01-04</th>\n",
       "      <td>368.79</td>\n",
       "      <td>182.33</td>\n",
       "      <td>3186.63</td>\n",
       "      <td>1728.24</td>\n",
       "      <td>16.92</td>\n",
       "      <td>60.11</td>\n",
       "      <td>40.75</td>\n",
       "    </tr>\n",
       "    <tr>\n",
       "      <th>2021-01-05</th>\n",
       "      <td>371.33</td>\n",
       "      <td>182.87</td>\n",
       "      <td>3218.51</td>\n",
       "      <td>1740.92</td>\n",
       "      <td>17.69</td>\n",
       "      <td>60.00</td>\n",
       "      <td>42.09</td>\n",
       "    </tr>\n",
       "    <tr>\n",
       "      <th>2021-01-06</th>\n",
       "      <td>373.55</td>\n",
       "      <td>179.90</td>\n",
       "      <td>3138.38</td>\n",
       "      <td>1735.29</td>\n",
       "      <td>17.08</td>\n",
       "      <td>61.95</td>\n",
       "      <td>42.95</td>\n",
       "    </tr>\n",
       "    <tr>\n",
       "      <th>2021-01-07</th>\n",
       "      <td>379.10</td>\n",
       "      <td>179.48</td>\n",
       "      <td>3162.16</td>\n",
       "      <td>1787.25</td>\n",
       "      <td>17.22</td>\n",
       "      <td>62.52</td>\n",
       "      <td>44.17</td>\n",
       "    </tr>\n",
       "    <tr>\n",
       "      <th>2021-01-08</th>\n",
       "      <td>381.26</td>\n",
       "      <td>173.34</td>\n",
       "      <td>3182.70</td>\n",
       "      <td>1807.21</td>\n",
       "      <td>17.58</td>\n",
       "      <td>63.04</td>\n",
       "      <td>43.18</td>\n",
       "    </tr>\n",
       "  </tbody>\n",
       "</table>\n",
       "</div>"
      ],
      "text/plain": [
       "               SPY     GLD     AMZN     GOOG   KPTI   GILD    MPC\n",
       "date                                                             \n",
       "2021-01-04  368.79  182.33  3186.63  1728.24  16.92  60.11  40.75\n",
       "2021-01-05  371.33  182.87  3218.51  1740.92  17.69  60.00  42.09\n",
       "2021-01-06  373.55  179.90  3138.38  1735.29  17.08  61.95  42.95\n",
       "2021-01-07  379.10  179.48  3162.16  1787.25  17.22  62.52  44.17\n",
       "2021-01-08  381.26  173.34  3182.70  1807.21  17.58  63.04  43.18"
      ]
     },
     "execution_count": 5,
     "metadata": {},
     "output_type": "execute_result"
    }
   ],
   "source": [
    "for symbol in symbols:\n",
    "    request = f\"https://eodhistoricaldata.com/api/eod/{symbol}.US?api_token={key}&from={start}&fmt=json\"\n",
    "    raw =requests.get(request).text\n",
    "    raw = pd.DataFrame(json.loads(raw))\n",
    "    data.append(raw['close'])\n",
    "data = pd.DataFrame(data).T\n",
    "data.columns = symbols\n",
    "data.index = raw['date']\n",
    "data.head()    "
   ]
  },
  {
   "cell_type": "markdown",
   "metadata": {},
   "source": [
    "### 4. Calculate instaneous returns"
   ]
  },
  {
   "cell_type": "code",
   "execution_count": 8,
   "metadata": {},
   "outputs": [
    {
     "name": "stdout",
     "output_type": "stream",
     "text": [
      "28.30%\n"
     ]
    }
   ],
   "source": [
    "returns = np.log(data).diff()\n",
    "returns.dropna(inplace = True)\n",
    "len(returns)\n",
    "std = np.sqrt(returns.var() * 251)\n",
    "print(f\"{std.mean():.2%}\")"
   ]
  },
  {
   "cell_type": "markdown",
   "metadata": {},
   "source": [
    "### 5. Equal Weighted Portfolio Volatility "
   ]
  },
  {
   "cell_type": "code",
   "execution_count": 9,
   "metadata": {},
   "outputs": [
    {
     "name": "stdout",
     "output_type": "stream",
     "text": [
      "17.17%\n"
     ]
    }
   ],
   "source": [
    "cov = returns.cov() * 251\n",
    "print(f\"{np.sqrt(np.dot(weights.T, np.dot(cov, weights))):.2%}\")"
   ]
  }
 ],
 "metadata": {
  "kernelspec": {
   "display_name": "Python 3 (ipykernel)",
   "language": "python",
   "name": "python3"
  },
  "language_info": {
   "codemirror_mode": {
    "name": "ipython",
    "version": 3
   },
   "file_extension": ".py",
   "mimetype": "text/x-python",
   "name": "python",
   "nbconvert_exporter": "python",
   "pygments_lexer": "ipython3",
   "version": "3.9.5"
  }
 },
 "nbformat": 4,
 "nbformat_minor": 4
}
