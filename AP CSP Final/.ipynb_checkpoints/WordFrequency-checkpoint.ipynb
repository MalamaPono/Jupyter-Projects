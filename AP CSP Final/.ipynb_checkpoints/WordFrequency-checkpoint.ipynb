{
 "cells": [
  {
   "cell_type": "code",
   "execution_count": 2,
   "id": "f9b03132",
   "metadata": {},
   "outputs": [],
   "source": [
    "import re\n",
    "\n",
    "def clean(text):\n",
    "    words = re.split(r'[, .!?\\“\\”]',text)\n",
    "    return words"
   ]
  },
  {
   "cell_type": "code",
   "execution_count": 3,
   "id": "d52c73e0",
   "metadata": {},
   "outputs": [],
   "source": [
    "def sort_dic(frequencies):\n",
    "    frequencies = sorted(frequencies.items(), key=lambda item: item[1],reverse=True)\n",
    "    top10dic = dict(frequencies[:10])\n",
    "    \n",
    "    return top10dic"
   ]
  },
  {
   "cell_type": "code",
   "execution_count": 4,
   "id": "10729bb0",
   "metadata": {},
   "outputs": [],
   "source": [
    "def process_text(words):\n",
    "    \n",
    "    frequencies = {}\n",
    "    \n",
    "    stop_words = ['i', 'me', 'my', 'myself', 'we', 'our', 'ours', 'ourselves', 'you', \n",
    "                  \"you're\", \"you've\", \"you'll\", \"you'd\", 'your', 'yours', 'yourself', \n",
    "                  'yourselves', 'he', 'him', 'his', 'himself', 'she', \"she's\", 'her', \n",
    "                  'hers', 'herself', 'it', \"it's\", 'its', 'itself', 'they', 'them', \n",
    "                  'their', 'theirs', 'themselves', 'what', 'which', 'who', 'whom', \n",
    "                  'this', 'that', \"that'll\", 'these', 'those', 'am', 'is', 'are', \n",
    "                  'was', 'were', 'be', 'been', 'being', 'have', 'has', 'had', 'having', \n",
    "                  'do', 'does', 'did', 'doing', 'a', 'an', 'the', 'and', 'but', 'if', \n",
    "                  'or', 'because', 'as', 'until', 'while', 'of', 'at', 'by', 'for', \n",
    "                  'with', 'about', 'against', 'between', 'into', 'through', 'during', \n",
    "                  'before', 'after', 'above', 'below', 'to', 'from', 'up', 'down', \n",
    "                  'in', 'out', 'on', 'off', 'over', 'under', 'again', 'further', \n",
    "                  'then', 'once', 'here', 'there', 'when', 'where', 'why', 'how', \n",
    "                  'all', 'any', 'both', 'each', 'few', 'more', 'most', 'other', \n",
    "                  'some', 'such', 'no', 'nor', 'not', 'only', 'own', 'same', 'so', \n",
    "                  'than', 'too', 'very', 's', 't', 'can', 'will', 'just', 'don', \n",
    "                  \"don't\", 'should', \"should've\", 'now',\"didn't\", \"doesn't\", \"hadn't\",\"hasn't\",\n",
    "                  \"haven't\", \"isn't\", \"needn't\", \"shouldn't\", \"wasn't\",\n",
    "                  \"weren't\",\"won't\",\"wouldn't\"]\n",
    "    \n",
    "    for word in words:\n",
    "        # dont account for casing. Thus hello and HELLO are counted as same word\n",
    "        word = word.lower()\n",
    "        #if the word is not in stop words and it is not an empty string than you can update its frequency         \n",
    "        if word not in stop_words and word != '':\n",
    "            if word in frequencies.keys():\n",
    "                frequencies[word] = frequencies[word] + 1\n",
    "            else:\n",
    "                frequencies[word] = 1\n",
    "                \n",
    "    if len(frequencies) < 10:\n",
    "        return None\n",
    "    else:\n",
    "        return frequencies"
   ]
  },
  {
   "cell_type": "code",
   "execution_count": 5,
   "id": "38cdadc2",
   "metadata": {},
   "outputs": [],
   "source": [
    "def pretty_print(top10dic):\n",
    "    for word in top10dic:\n",
    "        print(f'{word} occured {top10dic[word]} amount of times')\n",
    "        "
   ]
  },
  {
   "cell_type": "code",
   "execution_count": null,
   "id": "c088d895",
   "metadata": {},
   "outputs": [
    {
     "name": "stdout",
     "output_type": "stream",
     "text": [
      "Please enter a piece of text: this is not long enough\n"
     ]
    }
   ],
   "source": [
    "while True:\n",
    "    text = input(\"Please enter a piece of text: \")\n",
    "\n",
    "    words = clean(text)\n",
    "    frequencies = process_text(words)\n",
    "    if frequencies == None:\n",
    "        continue\n",
    "    else:\n",
    "        top10dic = sort_dic(frequencies)\n",
    "        pretty_print(top10dic)\n",
    "        break "
   ]
  }
 ],
 "metadata": {
  "kernelspec": {
   "display_name": "Python 3 (ipykernel)",
   "language": "python",
   "name": "python3"
  },
  "language_info": {
   "codemirror_mode": {
    "name": "ipython",
    "version": 3
   },
   "file_extension": ".py",
   "mimetype": "text/x-python",
   "name": "python",
   "nbconvert_exporter": "python",
   "pygments_lexer": "ipython3",
   "version": "3.9.5"
  }
 },
 "nbformat": 4,
 "nbformat_minor": 5
}
