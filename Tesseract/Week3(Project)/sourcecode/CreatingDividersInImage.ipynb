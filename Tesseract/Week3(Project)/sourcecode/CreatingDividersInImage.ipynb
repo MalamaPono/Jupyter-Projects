{
 "cells": [
  {
   "cell_type": "code",
   "execution_count": 74,
   "id": "914d22de",
   "metadata": {
    "scrolled": true
   },
   "outputs": [
    {
     "data": {
      "image/png": "[encoded data removed]",
      "text/plain": [
       "<PIL.Image.Image image mode=RGB size=550x20 at 0x7FBE7169D340>"
      ]
     },
     "metadata": {},
     "output_type": "display_data"
    },
    {
     "data": {
      "image/png": "[encoded data removed]",
      "text/plain": [
       "<PIL.Image.Image image mode=RGB size=550x20 at 0x7FBE7169D340>"
      ]
     },
     "metadata": {},
     "output_type": "display_data"
    }
   ],
   "source": [
    "from PIL import Image\n",
    "from PIL import ImageFont\n",
    "from PIL import ImageDraw \n",
    "\n",
    "mode = 'RGB'\n",
    "size = (550,20)\n",
    "color = (0,0,0)\n",
    "img = Image.new(mode,size,color)\n",
    "display(img)\n",
    "\n",
    "draw = ImageDraw.Draw(img)\n",
    "font = ImageFont.truetype(\"read_only/fanwood-webfont.ttf\", 16)\n",
    "draw.text((10, 5),\"Sample Text\",(255,255,255),font=font)\n",
    "display(img)"
   ]
  }
 ],
 "metadata": {
  "kernelspec": {
   "display_name": "Python 3 (ipykernel)",
   "language": "python",
   "name": "python3"
  },
  "language_info": {
   "codemirror_mode": {
    "name": "ipython",
    "version": 3
   },
   "file_extension": ".py",
   "mimetype": "text/x-python",
   "name": "python",
   "nbconvert_exporter": "python",
   "pygments_lexer": "ipython3",
   "version": "3.8.10"
  }
 },
 "nbformat": 4,
 "nbformat_minor": 5
}
