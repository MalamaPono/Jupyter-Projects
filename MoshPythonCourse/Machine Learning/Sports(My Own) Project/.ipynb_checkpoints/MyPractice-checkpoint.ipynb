{
 "cells": [
  {
   "cell_type": "code",
   "execution_count": 21,
   "id": "16a7e7cc",
   "metadata": {},
   "outputs": [
    {
     "data": {
      "text/plain": [
       "array(['Football'], dtype=object)"
      ]
     },
     "execution_count": 21,
     "metadata": {},
     "output_type": "execute_result"
    }
   ],
   "source": [
    "# using entire data set as training to predict manual entry\n",
    "import pandas as pd\n",
    "from sklearn.tree import DecisionTreeClassifier\n",
    "from sklearn.preprocessing import LabelEncoder\n",
    "\n",
    "sports_identifier = pd.read_csv(\"Sports.csv\")\n",
    "\n",
    "le = LabelEncoder()\n",
    "sports_identifier[\"Birthplace_Code\"] = le.fit_transform(sports_identifier.Birthplace) \n",
    "\n",
    "X = sports_identifier.drop(columns = [\"Hobby\",\"Birthplace\"])\n",
    "y = sports_identifier[\"Hobby\"]\n",
    "\n",
    "model = DecisionTreeClassifier()\n",
    "model.fit(X,y)\n",
    "model.predict([ [24,1,0] ])"
   ]
  },
  {
   "cell_type": "code",
   "execution_count": 24,
   "id": "15de73d4",
   "metadata": {},
   "outputs": [
    {
     "data": {
      "text/plain": [
       "1.0"
      ]
     },
     "execution_count": 24,
     "metadata": {},
     "output_type": "execute_result"
    }
   ],
   "source": [
    "# splitting data set into training and testing data, then printing the accurancy level\n",
    "import pandas as pd\n",
    "from sklearn.tree import DecisionTreeClassifier\n",
    "from sklearn.preprocessing import LabelEncoder\n",
    "from sklearn.model_selection import train_test_split\n",
    "from sklearn.metrics import accuracy_score\n",
    "\n",
    "sports_identifier = pd.read_csv(\"Sports.csv\")\n",
    "\n",
    "le = LabelEncoder()\n",
    "sports_identifier[\"Birthplace_Code\"] = le.fit_transform(sports_identifier.Birthplace) \n",
    "\n",
    "X = sports_identifier.drop(columns = [\"Hobby\",\"Birthplace\"])\n",
    "y = sports_identifier[\"Hobby\"]\n",
    "\n",
    "# method returns a tuple, then we unpackage the tuple assigning 4 variables to the 4 elements inside the tuple that is returned\n",
    "X_train,X_test,y_train,y_test = train_test_split(X,y,test_size=0.2)\n",
    "\n",
    "model = DecisionTreeClassifier()\n",
    "model.fit(X_train,y_train)\n",
    "\n",
    "predictions = model.predict(X_test)\n",
    "score = accuracy_score(y_test,predictions)\n",
    "\n",
    "score"
   ]
  },
  {
   "cell_type": "code",
   "execution_count": 26,
   "id": "3a525de9",
   "metadata": {},
   "outputs": [
    {
     "data": {
      "text/plain": [
       "array(['Weaving'], dtype=object)"
      ]
     },
     "execution_count": 26,
     "metadata": {},
     "output_type": "execute_result"
    }
   ],
   "source": [
    "# saving the model inside of a file to reuse by just loading it from the file instead of continuously having to retrain\n",
    "# and call the retraining code which can get very ugly in huge data sets\n",
    "import pandas as pd\n",
    "from sklearn.tree import DecisionTreeClassifier\n",
    "from sklearn.preprocessing import LabelEncoder\n",
    "import joblib\n",
    "\n",
    "# sports_identifier = pd.read_csv(\"Sports.csv\")\n",
    "\n",
    "# le = LabelEncoder()\n",
    "# sports_identifier[\"Birthplace_Code\"] = le.fit_transform(sports_identifier.Birthplace) \n",
    "\n",
    "# X = sports_identifier.drop(columns = [\"Hobby\",\"Birthplace\"])\n",
    "# y = sports_identifier[\"Hobby\"]\n",
    "\n",
    "# model = DecisionTreeClassifier()\n",
    "# model.fit(X,y)\n",
    "# joblib.dump(model,\"sports-recommender.joblib\")\n",
    "\n",
    "\n",
    "model = joblib.load(\"sports-recommender.joblib\")\n",
    "predictions = model.predict([ [52,0,0] ])\n",
    "predictions"
   ]
  },
  {
   "cell_type": "code",
   "execution_count": null,
   "id": "200fdcec",
   "metadata": {},
   "outputs": [],
   "source": [
    "# getting the tree image of the decision making process of our machine learning algorithm\n",
    "import pandas as pd\n",
    "from sklearn.tree import DecisionTreeClassifier\n",
    "from sklearn.preprocessing import LabelEncoder\n",
    "\n",
    "sports_identifier = pd.read_csv(\"Sports.csv\")\n",
    "\n",
    "le = LabelEncoder()\n",
    "sports_identifier[\"Birthplace_Code\"] = le.fit_transform(sports_identifier.Birthplace) \n",
    "\n",
    "X = sports_identifier.drop(columns = [\"Hobby\",\"Birthplace\"])\n",
    "y = sports_identifier[\"Hobby\"]\n",
    "\n",
    "model = DecisionTreeClassifier()\n",
    "model.fit(X,y)\n",
    "\n",
    "tree.export_graphviz(model,out_file=\"sports-recommender.dot\",\n",
    "                     feature_names=[\"age\",\"gender\"],\n",
    "                     class_names=sorted(y.unique()),\n",
    "                     label=\"all\",\n",
    "                     rounded=True,\n",
    "                     filled=True)"
   ]
  }
 ],
 "metadata": {
  "kernelspec": {
   "display_name": "Python 3",
   "language": "python",
   "name": "python3"
  },
  "language_info": {
   "codemirror_mode": {
    "name": "ipython",
    "version": 3
   },
   "file_extension": ".py",
   "mimetype": "text/x-python",
   "name": "python",
   "nbconvert_exporter": "python",
   "pygments_lexer": "ipython3",
   "version": "3.8.8"
  }
 },
 "nbformat": 4,
 "nbformat_minor": 5
}
